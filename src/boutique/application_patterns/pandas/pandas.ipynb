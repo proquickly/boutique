{
 "cells": [
  {
   "cell_type": "code",
   "execution_count": 25,
   "metadata": {},
   "outputs": [
    {
     "data": {
      "text/plain": "'3.9.5 (default, May 11 2021, 08:20:37) \\n[GCC 10.3.0]'"
     },
     "execution_count": 25,
     "metadata": {},
     "output_type": "execute_result"
    }
   ],
   "source": [
    "import sys\n",
    "sys.version"
   ]
  },
  {
   "cell_type": "code",
   "execution_count": 26,
   "metadata": {},
   "outputs": [],
   "source": [
    "import matplotlib.pyplot as plt\n",
    "import pandas as pd\n",
    "import numpy as np\n",
    "#sns.set()"
   ]
  },
  {
   "cell_type": "code",
   "execution_count": 29,
   "metadata": {},
   "outputs": [
    {
     "data": {
      "text/plain": "   raceId  driverId  lap  position      time  milliseconds  seconds\n0     841        20    1         1  1:38.109         98109   98.109\n1     841        20    2         1  1:33.006         93006   93.006\n2     841        20    3         1  1:32.713         92713   92.713\n3     841        20    4         1  1:32.803         92803   92.803\n4     841        20    5         1  1:32.342         92342   92.342",
      "text/html": "<div>\n<style scoped>\n    .dataframe tbody tr th:only-of-type {\n        vertical-align: middle;\n    }\n\n    .dataframe tbody tr th {\n        vertical-align: top;\n    }\n\n    .dataframe thead th {\n        text-align: right;\n    }\n</style>\n<table border=\"1\" class=\"dataframe\">\n  <thead>\n    <tr style=\"text-align: right;\">\n      <th></th>\n      <th>raceId</th>\n      <th>driverId</th>\n      <th>lap</th>\n      <th>position</th>\n      <th>time</th>\n      <th>milliseconds</th>\n      <th>seconds</th>\n    </tr>\n  </thead>\n  <tbody>\n    <tr>\n      <th>0</th>\n      <td>841</td>\n      <td>20</td>\n      <td>1</td>\n      <td>1</td>\n      <td>1:38.109</td>\n      <td>98109</td>\n      <td>98.109</td>\n    </tr>\n    <tr>\n      <th>1</th>\n      <td>841</td>\n      <td>20</td>\n      <td>2</td>\n      <td>1</td>\n      <td>1:33.006</td>\n      <td>93006</td>\n      <td>93.006</td>\n    </tr>\n    <tr>\n      <th>2</th>\n      <td>841</td>\n      <td>20</td>\n      <td>3</td>\n      <td>1</td>\n      <td>1:32.713</td>\n      <td>92713</td>\n      <td>92.713</td>\n    </tr>\n    <tr>\n      <th>3</th>\n      <td>841</td>\n      <td>20</td>\n      <td>4</td>\n      <td>1</td>\n      <td>1:32.803</td>\n      <td>92803</td>\n      <td>92.803</td>\n    </tr>\n    <tr>\n      <th>4</th>\n      <td>841</td>\n      <td>20</td>\n      <td>5</td>\n      <td>1</td>\n      <td>1:32.342</td>\n      <td>92342</td>\n      <td>92.342</td>\n    </tr>\n  </tbody>\n</table>\n</div>"
     },
     "execution_count": 29,
     "metadata": {},
     "output_type": "execute_result"
    }
   ],
   "source": [
    "# point to correct diretory for the following file\n",
    "laptimes = pd.read_csv('lapTimes.csv')\n",
    "\n",
    "laptimes['seconds'] = laptimes['milliseconds'] / 1000"
   ]
  },
  {
   "cell_type": "code",
   "execution_count": null,
   "metadata": {},
   "outputs": [],
   "source": [
    "{\n",
    "'name': ['andy', 'fred', 'kkk', 'llll'],\n",
    "'age': [21, 45, Nan]\n",
    "}\n",
    "\n",
    "name    age\n",
    "andy    21\n",
    "fred    45"
   ]
  }
 ],
 "metadata": {
  "kernelspec": {
   "display_name": "Python 3",
   "language": "python",
   "name": "python3"
  },
  "language_info": {
   "codemirror_mode": {
    "name": "ipython",
    "version": 3
   },
   "file_extension": ".py",
   "mimetype": "text/x-python",
   "name": "python",
   "nbconvert_exporter": "python",
   "pygments_lexer": "ipython3",
   "version": "3.8.3"
  }
 },
 "nbformat": 4,
 "nbformat_minor": 4
}